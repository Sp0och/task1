{
 "cells": [
  {
   "cell_type": "markdown",
   "id": "8f9d080b",
   "metadata": {},
   "source": [
    "# AML Fall 2021 - Task 1\n",
    "In this task we are asked to estimate the brain age using a set of features extracted from the 3D brain MRI. The provided dataset has 832 features. There are 1212 samples in the training set and 776 samples in the test set.\n",
    "After reading the data into the panda dataframes, we first remove the extra id columns and convert the dataframes into numpy arrays. We then proceed as follows:\n",
    "1. We first __remove the features with very low normalized variance__. We define the normalized standard deviation of each feature (each column of the dataset) as $ norm_std = \\sigma / (|\\mu| + 1) $, where $ \\sigma $ and $ \\mu $ are the standard deviation and the mean of that feature, respectively. We remove features whose normalized std is less than 0.001.\n",
    "2. __Scaling:__ We next subtract the mean of the features and normalize them so that all features have standard deviation of 1.\n",
    "3. __Imputation:__ We then impute the missing values median of each value.\n",
    "4. __Outlier detection:__ We use isolation forest outlier detector from sklearn. After fitting the model to the data, we plot the decision function of the outlier detector, which provides an anomality score for each feature (lower score means more likely to be outlier). We remove samples whose anomality score is below the threshold = 0.\n",
    "5. __Feature selection:__ we used the feature_importances_ attribute of the ExtraTreesRegressor from sklearn to select features with the highest importance. Again we set a threshold (0.001) as a hyperparameter and only selected features whose feature_importances_ was above this threshold. 139 features out of 773 features were selected.\n",
    "6. __Second round of imputation and outlier detection:__ After selecting the features, we return to the non-imputed data with features selected and outliers removed and impute the missing values this time using MICE imputer from sklearn. We found that it gives better results than KNN. However, now that we have reduced the data set size by keeping less features, it is much easier to MICE than in the beginning. Finally, we repeat the outlier detection procedure, by this time with a different threshold of 0.02.\n",
    "7. Next, we apply four different regression models to the preprocessed data. We train ExtraTreesRegressor, HistGradientBoostingRegressor, SVM regressor and MLP on the data. It turns out that SVM and MLP give the best results with 139 features, while the random forest based methods (ExtraTreesRegressor and HistGradientBoostingRegressor) work best with lower number of features. After tuning the parameters of the models, we average the results of the MLP and SVM regressors on the test set and report it as our prediction. While tuning the parameters of the models, we tried to avoid overfitting. For example in the MLP, we used only one hidden layer and tried to minimize the number of nodes in order to keep the model simple. Also, we always evaluated the results of each regressor using K-fold cross validation on the training set, before testing them on the test set. Finally, averaging the results of two regressors, not only improves the prediction score, but also reduces the chance of overfitting.\n",
    "\n",
    "## Results: \n",
    "The following results correspond to the results of this notebook on the test data:\n",
    "Public score:  0.775519847113\n",
    "Private score: 0.735522492724\n",
    "We ranked 3 out of 179 groups in the private leaderboard."
   ]
  },
  {
   "cell_type": "code",
   "execution_count": 1,
   "id": "cec519c9",
   "metadata": {},
   "outputs": [],
   "source": [
    "############# load packages #############\n",
    "\n",
    "import numpy as np \n",
    "import pandas as pd \n",
    "\n",
    "from sklearn import preprocessing\n",
    "import matplotlib.pyplot as plt \n",
    "\n",
    "from sklearn.ensemble import ExtraTreesRegressor\n",
    "from sklearn.feature_selection import SelectFromModel\n",
    "from sklearn.ensemble import IsolationForest\n",
    "from sklearn.experimental import enable_iterative_imputer\n",
    "from sklearn.impute import KNNImputer, IterativeImputer\n",
    "\n",
    "\n",
    "from sklearn.model_selection import cross_val_score\n",
    "from sklearn.model_selection import RepeatedKFold\n",
    "from sklearn.feature_selection import RFE\n",
    "from sklearn.tree import DecisionTreeRegressor\n",
    "from sklearn.pipeline import Pipeline\n",
    "from sklearn.ensemble import RandomForestRegressor\n",
    "\n",
    "from sklearn.svm import SVR\n",
    "from sklearn.neural_network import MLPRegressor\n",
    "from sklearn.ensemble import AdaBoostRegressor\n",
    "from sklearn.experimental import enable_hist_gradient_boosting\n",
    "from sklearn.ensemble import HistGradientBoostingRegressor\n",
    "from sklearn.impute import SimpleImputer\n",
    "\n",
    "############# read training and test data from the files #############\n",
    "X_train = pd.read_csv(\"X_train.csv\").to_numpy()\n",
    "X_train = X_train[:,1:]  #remove the id column\n",
    "y_train = pd.read_csv(\"y_train.csv\").to_numpy()\n",
    "y_train = y_train[:,1]\n",
    "X_test = pd.read_csv(\"X_test.csv\").to_numpy()\n",
    "X_test = X_test[:,1:]  #remove the id column\n",
    "\n",
    "X_train0 = X_train\n",
    "y_train0 = y_train\n",
    "X_test0 = X_test\n",
    "\n",
    "#################### preprocessing ####################\n",
    "\n",
    "# first remove features with very low variance\n",
    "normalized_std_threshold = 0.001\n",
    "normalized_std = np.zeros(X_train.shape[1])\n",
    "means_abs = np.zeros(X_train.shape[1])\n",
    "for i in range(X_train.shape[1]):\n",
    "    vec = X_train[:,i]\n",
    "    means_abs[i] = np.abs(np.mean(vec[~np.isnan(vec)])) + 1\n",
    "    normalized_std[i] = np.std(vec[~np.isnan(vec)])/means_abs[i]\n",
    "\n",
    "mask = np.ones(len(normalized_std), dtype=bool)\n",
    "mask[normalized_std < normalized_std_threshold] = False\n",
    "\n",
    "X_train = X_train[:, mask]\n",
    "X_test = X_test[:, mask]\n",
    "\n",
    "# Scaling\n",
    "scaler = preprocessing.StandardScaler().fit(X_train)\n",
    "X_train_scaled = scaler.transform(X_train)\n",
    "X_test_scaled = scaler.transform(X_test)\n",
    "\n",
    "############ Imputation #############\n",
    "# imputer = KNNImputer(n_neighbors=50) \n",
    "# X_train_sc_imp0 = imputer.fit_transform(X_train_scaled)\n",
    "# X_test_sc_imp0 = imputer.fit_transform(X_test_scaled)\n",
    "\n",
    "Imputer = SimpleImputer(missing_values=np.nan, strategy='median')\n",
    "X_train_sc_imp0 = Imputer.fit_transform(X_train_scaled)\n",
    "X_test_sc_imp0 = Imputer.fit_transform(X_test_scaled)\n"
   ]
  },
  {
   "cell_type": "code",
   "execution_count": 2,
   "id": "d305c322",
   "metadata": {
    "scrolled": true
   },
   "outputs": [
    {
     "data": {
      "image/png": "[encoded data removed]",
      "text/plain": [
       "<Figure size 432x288 with 1 Axes>"
      ]
     },
     "metadata": {
      "needs_background": "light"
     },
     "output_type": "display_data"
    },
    {
     "name": "stdout",
     "output_type": "stream",
     "text": [
      "Size of training set after initial preprocessing: (1151, 773)\n"
     ]
    }
   ],
   "source": [
    "############# Outlier detection: IsolationForest #############\n",
    "outlier_det = IsolationForest(random_state=0, contamination=0.05, max_features=0.5).fit(X_train_sc_imp0)\n",
    "anomaly_score = outlier_det.decision_function(X_train_sc_imp0)\n",
    "\n",
    "### to determine the contamination parameter, I propose to first plot the anomaly score function and then decide on the\n",
    "### the contamination ratio based on visual thresholding.\n",
    "### HERE WE NEED TO VISUALLY DETERMINE A THRESHOLD:\n",
    "anomaly_threshold = 0.0\n",
    "plt.plot(anomaly_score)\n",
    "plt.plot(np.ones(anomaly_score.shape)*anomaly_threshold)\n",
    "plt.ylabel('anomaly score')\n",
    "plt.show()\n",
    "\n",
    "outliers=np.where(anomaly_score < anomaly_threshold)\n",
    "\n",
    "mask = np.ones(len(anomaly_score), dtype=bool)\n",
    "mask[outliers[0]] = False\n",
    "X_train_cl0 = X_train_sc_imp0[mask,:]\n",
    "y_train_cl0 = y_train[mask]\n",
    "\n",
    "print('Size of training set after initial preprocessing:', X_train_cl0.shape)"
   ]
  },
  {
   "cell_type": "code",
   "execution_count": 3,
   "id": "5c0643eb",
   "metadata": {},
   "outputs": [
    {
     "name": "stdout",
     "output_type": "stream",
     "text": [
      "number of selected features: 139\n"
     ]
    }
   ],
   "source": [
    "############# Feature selection using ExtraTreesRegressor #############\n",
    "\n",
    "selector = ExtraTreesRegressor(n_estimators=50, random_state=0, min_samples_split=0.02, max_samples=0.9)\n",
    "selector = selector.fit(X_train_cl0, y_train_cl0)\n",
    "selector.feature_importances_  \n",
    "\n",
    "support = np.where(selector.feature_importances_ > 1e-3)[0]\n",
    "print('number of selected features:', len(support))"
   ]
  },
  {
   "cell_type": "markdown",
   "id": "09687e3b",
   "metadata": {},
   "source": [
    "### removing features that are highly correlated (and keeping only one) did not help:"
   ]
  },
  {
   "cell_type": "raw",
   "id": "29cafbd2",
   "metadata": {},
   "source": [
    "\n",
    "# corr_threshold = 0.9\n",
    "\n",
    "# corr_matrix = np.abs(np.corrcoef(X_train_cl0[:,support], rowvar=False))\n",
    "# mask = np.triu(np.ones_like(corr_matrix, dtype=bool))\n",
    "# corr_mat_triu = np.ma.masked_array(corr_matrix, mask=mask)\n",
    "\n",
    "# # plt.imshow(corr_matrix, cmap='hot', interpolation='nearest')\n",
    "# # plt.show()\n",
    "\n",
    "# drop_features = [c for c in range(corr_mat_triu.shape[1]) if any(corr_mat_triu[:,c] > corr_threshold)]\n",
    "# corr_mask = np.ones(corr_mat_triu.shape[1], dtype=bool)\n",
    "# corr_mask[drop_features] = False\n",
    "# support = support[corr_mask]"
   ]
  },
  {
   "cell_type": "markdown",
   "id": "39193cc5",
   "metadata": {},
   "source": [
    "### Redo imputation and outlier detection after feature selection"
   ]
  },
  {
   "cell_type": "code",
   "execution_count": 4,
   "id": "0b742e7a",
   "metadata": {
    "scrolled": false
   },
   "outputs": [],
   "source": [
    "#############  #############\n",
    "X_train_sel = X_train_scaled[:,support]\n",
    "X_train_sel = X_train_sel[mask, :]\n",
    "X_test_sel = X_test_scaled[:,support]\n",
    "y_train_sel = y_train[mask]\n",
    "\n",
    "############# MICE imputation #############\n",
    "\n",
    "imp_mean = IterativeImputer(random_state=0, n_nearest_features = None, sample_posterior = False, max_iter=100) \n",
    "X_train_sc_imp = imp_mean.fit_transform(X_train_sel)\n",
    "X_test_sc_imp = imp_mean.fit_transform(X_test_sel)\n"
   ]
  },
  {
   "cell_type": "markdown",
   "id": "85d64276",
   "metadata": {},
   "source": [
    "### Second round of outlier detection"
   ]
  },
  {
   "cell_type": "code",
   "execution_count": 5,
   "id": "f931bb1c",
   "metadata": {
    "scrolled": true
   },
   "outputs": [
    {
     "data": {
      "image/png": "[encoded data removed]",
      "text/plain": [
       "<Figure size 432x288 with 1 Axes>"
      ]
     },
     "metadata": {
      "needs_background": "light"
     },
     "output_type": "display_data"
    },
    {
     "name": "stdout",
     "output_type": "stream",
     "text": [
      "Shape of the training set: (1081, 139)\n"
     ]
    }
   ],
   "source": [
    "outlierdet = IsolationForest(random_state=0, contamination=0.05, max_features=0.5).fit(X_train_sc_imp)\n",
    "anomaly_score2 = outlierdet.decision_function(X_train_sc_imp)\n",
    "\n",
    "anomaly_threshold2 = 0.02\n",
    "plt.plot(anomaly_score2)\n",
    "plt.plot(np.ones(anomaly_score2.shape)*anomaly_threshold2)\n",
    "plt.ylabel('anomaly score after feature sel')\n",
    "plt.show()\n",
    "\n",
    "outliers=np.where(anomaly_score2 < anomaly_threshold2)\n",
    "\n",
    "mask = np.ones(len(anomaly_score2), dtype=bool)\n",
    "mask[outliers[0]] = False\n",
    "X_train_cl = X_train_sc_imp[mask,:]\n",
    "y_train_cl = y_train_sel[mask]\n",
    "\n",
    "print('Shape of the training set:', X_train_cl.shape)"
   ]
  },
  {
   "cell_type": "markdown",
   "id": "c8217816",
   "metadata": {},
   "source": [
    "### regression models"
   ]
  },
  {
   "cell_type": "code",
   "execution_count": 6,
   "id": "ba855c20",
   "metadata": {
    "scrolled": true
   },
   "outputs": [
    {
     "name": "stdout",
     "output_type": "stream",
     "text": [
      "MAE: 0.181 (0.156)\n"
     ]
    }
   ],
   "source": [
    "############# Regression using a decision tree #############\n",
    "\n",
    "cv = RepeatedKFold(n_splits=10, n_repeats=3, random_state=1)\n",
    "reg_model = DecisionTreeRegressor(random_state=0, min_samples_split=0.01)\n",
    "n_scores = cross_val_score(reg_model, X_train_cl, y_train_cl, scoring='r2', cv=cv, n_jobs=-1, error_score='raise')\n",
    "print('MAE: %.3f (%.3f)' % (np.mean(n_scores), np.std(n_scores)))"
   ]
  },
  {
   "cell_type": "code",
   "execution_count": 7,
   "id": "74907cd1",
   "metadata": {
    "scrolled": true
   },
   "outputs": [
    {
     "name": "stdout",
     "output_type": "stream",
     "text": [
      "SVR: 0.697 (0.045)\n",
      "MLP: 0.686 (0.067)\n"
     ]
    }
   ],
   "source": [
    "\n",
    "run_list = [0,0,1,0,1]\n",
    "\n",
    "############# Regression using a random forest #############\n",
    "if run_list[0]:\n",
    "    rf_reg = ExtraTreesRegressor(n_estimators=100, random_state=0, min_samples_split=5, max_samples=None)\n",
    "    n_scores = cross_val_score(rf_reg, X_train_cl, y_train_cl, scoring='r2', cv=cv, n_jobs=-1, error_score='raise')\n",
    "    print('ExtraTrees: %.3f (%.3f)' % (np.mean(n_scores), np.std(n_scores)))\n",
    "    regressor = rf_reg.fit(X_train_cl, y_train_cl)\n",
    "    y_predicted_rf = regressor.predict(X_test_sc_imp)\n",
    "\n",
    "\n",
    "\n",
    "############# Regression using HistGradientBoostingRegressor #############\n",
    "if run_list[1]:\n",
    "    HGB_reg = HistGradientBoostingRegressor(max_iter=200, learning_rate = 0.1, l2_regularization = 10)\n",
    "    n_scores = cross_val_score(HGB_reg, X_train_cl, y_train_cl, scoring='r2', cv=cv, n_jobs=-1, error_score='raise')\n",
    "    print('HBG: %.3f (%.3f)' % (np.mean(n_scores), np.std(n_scores)))\n",
    "    regressor = HGB_reg.fit(X_train_cl, y_train_cl)\n",
    "    y_predicted_hgb = regressor.predict(X_test_sc_imp)\n",
    "\n",
    "############# Regression using SVR #############\n",
    "if run_list[2]:\n",
    "    SVR_reg = SVR(kernel='rbf', degree=50, gamma=0.011, coef0=0.0, tol=0.1, C=100, epsilon=0.1, shrinking=True, cache_size=200)\n",
    "    n_scores = cross_val_score(SVR_reg, X_train_cl, y_train_cl, scoring='r2', cv=cv, n_jobs=-1, error_score='raise')\n",
    "    print('SVR: %.3f (%.3f)' % (np.mean(n_scores), np.std(n_scores)))\n",
    "    regressor = SVR_reg.fit(X_train_cl, y_train_cl)\n",
    "    y_predicted_svr = regressor.predict(X_test_sc_imp)\n",
    "    \n",
    "############# Regression using adaboost #############\n",
    "if run_list[3]:\n",
    "    ada_regr = AdaBoostRegressor(random_state=0, n_estimators=1000, loss='square', learning_rate=0.5)\n",
    "    n_scores = cross_val_score(ada_regr, X_train_cl, y_train_cl, scoring='r2', cv=cv, n_jobs=-1, error_score='raise')\n",
    "    print('Ada: %.3f (%.3f)' % (np.mean(n_scores), np.std(n_scores)))\n",
    "\n",
    "############# Regression using MLP #############\n",
    "if run_list[4]:\n",
    "    MLP_reg = MLPRegressor(random_state=10, max_iter=10000,activation='tanh',solver='sgd',alpha=10, hidden_layer_sizes=(200))\n",
    "    n_scores = cross_val_score(MLP_reg, X_train_cl, y_train_cl, scoring='r2', cv=cv, n_jobs=-1, error_score='raise')\n",
    "    print('MLP: %.3f (%.3f)' % (np.mean(n_scores), np.std(n_scores)))\n",
    "    regressor = MLP_reg.fit(X_train_cl, y_train_cl)\n",
    "    y_predicted_mlp = regressor.predict(X_test_sc_imp)\n"
   ]
  },
  {
   "cell_type": "code",
   "execution_count": 9,
   "id": "fdba94e0",
   "metadata": {},
   "outputs": [],
   "source": [
    "############# Write out the predictions to a csv file #############\n",
    "y_predicted = 1/2*(y_predicted_svr + y_predicted_mlp)\n",
    "d = {'id': range(len(y_predicted)), 'y': y_predicted}\n",
    "y_predicted_df = pd.DataFrame(data=d)\n",
    "y_predicted_df.to_csv(\"AMLES_submission_v6.csv\", index=False)"
   ]
  }
 ],
 "metadata": {
  "kernelspec": {
   "display_name": "Python 3",
   "language": "python",
   "name": "python3"
  },
  "language_info": {
   "codemirror_mode": {
    "name": "ipython",
    "version": 3
   },
   "file_extension": ".py",
   "mimetype": "text/x-python",
   "name": "python",
   "nbconvert_exporter": "python",
   "pygments_lexer": "ipython3",
   "version": "3.8.8"
  }
 },
 "nbformat": 4,
 "nbformat_minor": 5
}
