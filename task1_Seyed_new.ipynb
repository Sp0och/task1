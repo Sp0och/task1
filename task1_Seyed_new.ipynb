{
 "cells": [
  {
   "cell_type": "markdown",
   "id": "8f9d080b",
   "metadata": {},
   "source": [
    "# AML Fall 2021 - Task 1\n",
    "In this task we are asked to estimate the brain age using a set of features extracted from the 3D brain MRI. The provided dataset has 832 features. There are 1212 samples in the training set and 776 samples in the test set.\n",
    "After reading the data into the panda dataframes, we first remove the extra id columns and convert the dataframes into numpy arrays. We then proceed as follows:\n",
    "1. We first __remove the features with very low normalized variance__. We define the normalized standard deviation of each feature (each column of the dataset) as $ norm_std = \\sigma / (|\\mu| + 1) $, where $ \\sigma $ and $ \\mu $ are the standard deviation and the mean of that feature, respectively. We remove features whose normalized std is less than 0.001.\n",
    "2. __Scaling:__ We next subtract the mean of the features and normalize them so that all features have standard deviation of 1.\n",
    "3. __Imputation:__ We then impute the missing values median of each value.\n",
    "4. __Outlier detection:__ We use isolation forest outlier detector from sklearn. After fitting the model to the data, we plot the decision function of the outlier detector, which provides an anomality score for each feature (lower score means more likely to be outlier). We remove samples whose anomality score is below the threshold = 0.\n",
    "5. __Feature selection:__ we used the feature_importances_ attribute of the ExtraTreesRegressor from sklearn to select features with the highest importance. Again we set a threshold (0.001) as a hyperparameter and only selected features whose feature_importances_ was above this threshold. 139 features out of 773 features were selected.\n",
    "6. __Second round of imputation and outlier detection:__ After selecting the features, we return to the non-imputed data with features selected and outliers removed and impute the missing values this time using MICE imputer from sklearn. We found that it gives better results than KNN. However, now that we have reduced the data set size by keeping less features, it is much easier to MICE than in the beginning. Finally, we repeat the outlier detection procedure, by this time with a different threshold of 0.02.\n",
    "7. Next, we apply four different regression models to the preprocessed data. We train ExtraTreesRegressor, HistGradientBoostingRegressor, SVM regressor and MLP on the data. It turns out that SVM and MLP give the best results with 139 features, while the random forest based methods (ExtraTreesRegressor and HistGradientBoostingRegressor) work best with lower number of features. After tuning the parameters of the models, we average the results of the MLP and SVM regressors on the test set and report it as our prediction. While tuning the parameters of the models, we tried to avoid overfitting. For example in the MLP, we used only one hidden layer and tried to minimize the number of nodes in order to keep the model simple. Also, we always evaluated the results of each regressor using K-fold cross validation on the training set, before testing them on the test set. Finally, averaging the results of two regressors, not only improves the prediction score, but also reduces the chance of overfitting.\n",
    "\n",
    "## Results: \n",
    "The following results correspond to the results of this notebook on the test data:\n",
    "Public score:  0.775519847113\n",
    "Private score: 0.735522492724\n",
    "We ranked 3 out of 179 groups in the private leaderboard."
   ]
  },
  {
   "cell_type": "code",
   "execution_count": 49,
   "id": "cec519c9",
   "metadata": {},
   "outputs": [],
   "source": [
    "############# load packages #############\n",
    "\n",
    "import numpy as np \n",
    "import pandas as pd \n",
    "\n",
    "from sklearn import preprocessing\n",
    "import matplotlib.pyplot as plt \n",
    "\n",
    "from sklearn.ensemble import ExtraTreesRegressor\n",
    "from sklearn.feature_selection import SelectFromModel\n",
    "from sklearn.ensemble import IsolationForest\n",
    "from sklearn.experimental import enable_iterative_imputer\n",
    "from sklearn.impute import KNNImputer, IterativeImputer\n",
    "from sklearn.decomposition import PCA\n",
    "from sklearn.feature_selection import SelectKBest, f_regression\n",
    "\n",
    "\n",
    "from sklearn.model_selection import cross_val_score\n",
    "from sklearn.model_selection import RepeatedKFold\n",
    "from sklearn.feature_selection import RFE\n",
    "from sklearn.tree import DecisionTreeRegressor\n",
    "from sklearn.pipeline import Pipeline\n",
    "from sklearn.ensemble import RandomForestRegressor\n",
    "\n",
    "from sklearn.svm import SVR\n",
    "from sklearn.neural_network import MLPRegressor\n",
    "from sklearn.ensemble import AdaBoostRegressor\n",
    "from sklearn.experimental import enable_hist_gradient_boosting\n",
    "from sklearn.ensemble import HistGradientBoostingRegressor\n",
    "from sklearn.impute import SimpleImputer\n",
    "\n",
    "############# read training and test data from the files #############\n",
    "X_train = pd.read_csv(\"X_train.csv\").to_numpy()\n",
    "X_train = X_train[:,1:]  #remove the id column\n",
    "y_train = pd.read_csv(\"y_train.csv\").to_numpy()\n",
    "y_train = y_train[:,1]\n",
    "X_test = pd.read_csv(\"X_test.csv\").to_numpy()\n",
    "X_test = X_test[:,1:]  #remove the id column\n",
    "\n",
    "X_train0 = X_train\n",
    "y_train0 = y_train\n",
    "X_test0 = X_test\n",
    "\n",
    "#################### preprocessing ####################\n",
    "\n",
    "# first remove features with very low variance\n",
    "normalized_std_threshold = 0.001\n",
    "normalized_std = np.zeros(X_train.shape[1])\n",
    "means_abs = np.zeros(X_train.shape[1])\n",
    "for i in range(X_train.shape[1]):\n",
    "    vec = X_train[:,i]\n",
    "    means_abs[i] = np.abs(np.mean(vec[~np.isnan(vec)])) + 1\n",
    "    normalized_std[i] = np.std(vec[~np.isnan(vec)])/means_abs[i]\n",
    "\n",
    "mask = np.ones(len(normalized_std), dtype=bool)\n",
    "mask[normalized_std < normalized_std_threshold] = False\n",
    "\n",
    "X_train = X_train[:, mask]\n",
    "X_test = X_test[:, mask]\n",
    "\n",
    "# Scaling\n",
    "scaler = preprocessing.StandardScaler().fit(X_train)\n",
    "X_train_scaled = scaler.transform(X_train)\n",
    "X_test_scaled = scaler.transform(X_test)\n",
    "\n",
    "############ Imputation #############\n",
    "# imputer = KNNImputer(n_neighbors=50) \n",
    "# X_train_sc_imp0 = imputer.fit_transform(X_train_scaled)\n",
    "# X_test_sc_imp0 = imputer.fit_transform(X_test_scaled)\n",
    "\n",
    "Imputer = SimpleImputer(missing_values=np.nan, strategy='median')\n",
    "X_train_sc_imp0 = Imputer.fit_transform(X_train_scaled)\n",
    "X_test_sc_imp0 = Imputer.fit_transform(X_test_scaled)\n"
   ]
  },
  {
   "cell_type": "code",
   "execution_count": 51,
   "id": "d305c322",
   "metadata": {
    "scrolled": false
   },
   "outputs": [
    {
     "data": {
      "image/png": "[encoded data removed]",
      "text/plain": [
       "<Figure size 432x288 with 1 Axes>"
      ]
     },
     "metadata": {
      "needs_background": "light"
     },
     "output_type": "display_data"
    },
    {
     "name": "stdout",
     "output_type": "stream",
     "text": [
      "Size of training set after initial preprocessing: (1090, 773)\n"
     ]
    }
   ],
   "source": [
    "############# Outlier detection: IsolationForest #############\n",
    "outlier_det = IsolationForest(random_state=0, contamination=0.1, max_features=0.5).fit(X_train_sc_imp0)\n",
    "anomaly_score = outlier_det.decision_function(X_train_sc_imp0)\n",
    "\n",
    "### to determine the contamination parameter, I propose to first plot the anomaly score function and then decide on the\n",
    "### the contamination ratio based on visual thresholding.\n",
    "### HERE WE NEED TO VISUALLY DETERMINE A THRESHOLD:\n",
    "anomaly_threshold = 0.0\n",
    "plt.plot(anomaly_score)\n",
    "plt.plot(np.ones(anomaly_score.shape)*anomaly_threshold)\n",
    "plt.ylabel('anomaly score')\n",
    "plt.show()\n",
    "\n",
    "outliers=np.where(anomaly_score < anomaly_threshold)\n",
    "\n",
    "mask = np.ones(len(anomaly_score), dtype=bool)\n",
    "mask[outliers[0]] = False\n",
    "X_train_cl0 = X_train_sc_imp0[mask,:]\n",
    "y_train_cl0 = y_train[mask]\n",
    "\n",
    "print('Size of training set after initial preprocessing:', X_train_cl0.shape)"
   ]
  },
  {
   "cell_type": "markdown",
   "id": "5cb63ba0",
   "metadata": {},
   "source": [
    "# Feature selection via KBest\n"
   ]
  },
  {
   "cell_type": "code",
   "execution_count": 52,
   "id": "21101325",
   "metadata": {},
   "outputs": [
    {
     "name": "stdout",
     "output_type": "stream",
     "text": [
      "feature flag:  [  2  15  18  21  23  27  29  39  66  74  84  86  89  97  98 103 109 110\n",
      " 111 127 128 136 139 141 145 153 162 165 166 170 182 183 187 190 194 198\n",
      " 199 203 205 213 214 215 216 217 226 229 232 238 244 246 254 258 260 264\n",
      " 267 268 269 275 277 282 284 285 287 290 293 294 295 300 301 302 309 315\n",
      " 318 322 323 331 332 335 341 342 346 352 353 355 365 369 372 380 384 385\n",
      " 395 401 407 410 415 420 424 426 432 445 450 451 457 460 470 475 480 482\n",
      " 485 490 491 498 502 503 506 507 513 516 520 523 529 545 548 550 556 557\n",
      " 561 563 565 566 573 583 586 590 591 592 594 598 599 604 607 609 615 617\n",
      " 620 621 624 626 629 637 643 649 650 657 658 659 666 667 670 671 676 679\n",
      " 687 690 693 703 710 712 713 717 718 721 724 732 740 745 758 760 764 765]\n"
     ]
    }
   ],
   "source": [
    "fit = SelectKBest(f_regression, k=180).fit(X_train_cl0, y_train_cl0)\n",
    "feature_flag = fit.get_feature_names_out()\n",
    "#get feature names always lists an x in the flag entry which has to be removed:\n",
    "for i in range(feature_flag.shape[0]):\n",
    "    feature_flag[i] = feature_flag[i][1:]\n",
    "\n",
    "feature_flag = feature_flag.astype(int)\n",
    "\n",
    "print(\"feature flag: \", feature_flag)"
   ]
  },
  {
   "cell_type": "markdown",
   "id": "2c840d61",
   "metadata": {},
   "source": []
  },
  {
   "cell_type": "code",
   "execution_count": 53,
   "id": "5c0643eb",
   "metadata": {},
   "outputs": [
    {
     "name": "stdout",
     "output_type": "stream",
     "text": [
      "support vector:  [  2  15  18  23  24  26  27  29  37  39  74  84  89 103 109 111 118 127\n",
      " 128 132 138 141 142 145 153 155 161 166 170 171 183 187 190 194 199 203\n",
      " 214 215 216 217 222 224 226 229 238 247 258 260 267 268 282 284 285 287\n",
      " 290 293 294 295 300 302 309 320 322 328 335 338 355 369 380 385 395 407\n",
      " 410 415 420 426 432 435 445 450 451 457 460 470 482 489 490 491 495 498\n",
      " 502 503 506 507 508 513 530 545 548 549 550 556 563 565 566 571 573 583\n",
      " 584 590 591 592 599 604 610 615 617 619 620 621 624 626 632 637 648 649\n",
      " 655 657 658 659 666 667 671 679 682 687 693 699 703 710 712 720 721 724\n",
      " 751 758 769]\n",
      "number of selected features: 147\n"
     ]
    }
   ],
   "source": [
    "############# Feature selection using ExtraTreesRegressor #############\n",
    "\n",
    "selector = ExtraTreesRegressor(n_estimators=50, random_state=0, min_samples_split=0.02, max_samples=0.9, bootstrap=True)\n",
    "selector = selector.fit(X_train_cl0, y_train_cl0)\n",
    "selector.feature_importances_  \n",
    "\n",
    "support = np.where(selector.feature_importances_ > 1e-3)[0]\n",
    "print(\"support vector: \", support)\n",
    "print('number of selected features:', len(support))"
   ]
  },
  {
   "cell_type": "markdown",
   "id": "09687e3b",
   "metadata": {},
   "source": [
    "### removing features that are highly correlated (and keeping only one) did not help:"
   ]
  },
  {
   "cell_type": "raw",
   "id": "29cafbd2",
   "metadata": {},
   "source": [
    "\n",
    "# corr_threshold = 0.9\n",
    "\n",
    "# corr_matrix = np.abs(np.corrcoef(X_train_cl0[:,support], rowvar=False))\n",
    "# mask = np.triu(np.ones_like(corr_matrix, dtype=bool))\n",
    "# corr_mat_triu = np.ma.masked_array(corr_matrix, mask=mask)\n",
    "\n",
    "# # plt.imshow(corr_matrix, cmap='hot', interpolation='nearest')\n",
    "# # plt.show()\n",
    "\n",
    "# drop_features = [c for c in range(corr_mat_triu.shape[1]) if any(corr_mat_triu[:,c] > corr_threshold)]\n",
    "# corr_mask = np.ones(corr_mat_triu.shape[1], dtype=bool)\n",
    "# corr_mask[drop_features] = False\n",
    "# support = support[corr_mask]"
   ]
  },
  {
   "cell_type": "markdown",
   "id": "39193cc5",
   "metadata": {},
   "source": [
    "### Redo imputation and outlier detection after feature selection"
   ]
  },
  {
   "cell_type": "markdown",
   "id": "c7668b91",
   "metadata": {},
   "source": [
    "## PCA and imputation"
   ]
  },
  {
   "cell_type": "code",
   "execution_count": 19,
   "id": "c27058f9",
   "metadata": {},
   "outputs": [
    {
     "ename": "ValueError",
     "evalue": "Input X contains NaN.\nPCA does not accept missing values encoded as NaN natively. For supervised learning, you might want to consider sklearn.ensemble.HistGradientBoostingClassifier and Regressor which accept missing values encoded as NaNs natively. Alternatively, it is possible to preprocess the data, for instance by using an imputer transformer in a pipeline or drop samples with missing values. See https://scikit-learn.org/stable/modules/impute.html You can find a list of all estimators that handle NaN values at the following page: https://scikit-learn.org/stable/modules/impute.html#estimators-that-handle-nan-values",
     "output_type": "error",
     "traceback": [
      "\u001b[0;31m---------------------------------------------------------------------------\u001b[0m",
      "\u001b[0;31mValueError\u001b[0m                                Traceback (most recent call last)",
      "Cell \u001b[0;32mIn [19], line 3\u001b[0m\n\u001b[1;32m      1\u001b[0m X_train_sel \u001b[39m=\u001b[39m X_train_scaled[mask, :]\n\u001b[1;32m      2\u001b[0m pca \u001b[39m=\u001b[39m PCA(n_components\u001b[39m=\u001b[39m\u001b[39m0.58\u001b[39m, svd_solver\u001b[39m=\u001b[39m\u001b[39m'\u001b[39m\u001b[39mfull\u001b[39m\u001b[39m'\u001b[39m)\n\u001b[0;32m----> 3\u001b[0m x_train_pca \u001b[39m=\u001b[39m pca\u001b[39m.\u001b[39;49mfit_transform(X_train_sel)\n\u001b[1;32m      5\u001b[0m X_test_sel \u001b[39m=\u001b[39m pca\u001b[39m.\u001b[39mfit_transform(X_test_scaled)\n\u001b[1;32m      6\u001b[0m y_train_sel \u001b[39m=\u001b[39m y_train[mask]\n",
      "File \u001b[0;32m~/.local/lib/python3.8/site-packages/sklearn/decomposition/_pca.py:433\u001b[0m, in \u001b[0;36mPCA.fit_transform\u001b[0;34m(self, X, y)\u001b[0m\n\u001b[1;32m    411\u001b[0m \u001b[39mdef\u001b[39;00m \u001b[39mfit_transform\u001b[39m(\u001b[39mself\u001b[39m, X, y\u001b[39m=\u001b[39m\u001b[39mNone\u001b[39;00m):\n\u001b[1;32m    412\u001b[0m     \u001b[39m\"\"\"Fit the model with X and apply the dimensionality reduction on X.\u001b[39;00m\n\u001b[1;32m    413\u001b[0m \n\u001b[1;32m    414\u001b[0m \u001b[39m    Parameters\u001b[39;00m\n\u001b[0;32m   (...)\u001b[0m\n\u001b[1;32m    431\u001b[0m \u001b[39m    C-ordered array, use 'np.ascontiguousarray'.\u001b[39;00m\n\u001b[1;32m    432\u001b[0m \u001b[39m    \"\"\"\u001b[39;00m\n\u001b[0;32m--> 433\u001b[0m     U, S, Vt \u001b[39m=\u001b[39m \u001b[39mself\u001b[39;49m\u001b[39m.\u001b[39;49m_fit(X)\n\u001b[1;32m    434\u001b[0m     U \u001b[39m=\u001b[39m U[:, : \u001b[39mself\u001b[39m\u001b[39m.\u001b[39mn_components_]\n\u001b[1;32m    436\u001b[0m     \u001b[39mif\u001b[39;00m \u001b[39mself\u001b[39m\u001b[39m.\u001b[39mwhiten:\n\u001b[1;32m    437\u001b[0m         \u001b[39m# X_new = X * V / S * sqrt(n_samples) = U * sqrt(n_samples)\u001b[39;00m\n",
      "File \u001b[0;32m~/.local/lib/python3.8/site-packages/sklearn/decomposition/_pca.py:456\u001b[0m, in \u001b[0;36mPCA._fit\u001b[0;34m(self, X)\u001b[0m\n\u001b[1;32m    450\u001b[0m \u001b[39mif\u001b[39;00m issparse(X):\n\u001b[1;32m    451\u001b[0m     \u001b[39mraise\u001b[39;00m \u001b[39mTypeError\u001b[39;00m(\n\u001b[1;32m    452\u001b[0m         \u001b[39m\"\u001b[39m\u001b[39mPCA does not support sparse input. See \u001b[39m\u001b[39m\"\u001b[39m\n\u001b[1;32m    453\u001b[0m         \u001b[39m\"\u001b[39m\u001b[39mTruncatedSVD for a possible alternative.\u001b[39m\u001b[39m\"\u001b[39m\n\u001b[1;32m    454\u001b[0m     )\n\u001b[0;32m--> 456\u001b[0m X \u001b[39m=\u001b[39m \u001b[39mself\u001b[39;49m\u001b[39m.\u001b[39;49m_validate_data(\n\u001b[1;32m    457\u001b[0m     X, dtype\u001b[39m=\u001b[39;49m[np\u001b[39m.\u001b[39;49mfloat64, np\u001b[39m.\u001b[39;49mfloat32], ensure_2d\u001b[39m=\u001b[39;49m\u001b[39mTrue\u001b[39;49;00m, copy\u001b[39m=\u001b[39;49m\u001b[39mself\u001b[39;49m\u001b[39m.\u001b[39;49mcopy\n\u001b[1;32m    458\u001b[0m )\n\u001b[1;32m    460\u001b[0m \u001b[39m# Handle n_components==None\u001b[39;00m\n\u001b[1;32m    461\u001b[0m \u001b[39mif\u001b[39;00m \u001b[39mself\u001b[39m\u001b[39m.\u001b[39mn_components \u001b[39mis\u001b[39;00m \u001b[39mNone\u001b[39;00m:\n",
      "File \u001b[0;32m~/.local/lib/python3.8/site-packages/sklearn/base.py:577\u001b[0m, in \u001b[0;36mBaseEstimator._validate_data\u001b[0;34m(self, X, y, reset, validate_separately, **check_params)\u001b[0m\n\u001b[1;32m    575\u001b[0m     \u001b[39mraise\u001b[39;00m \u001b[39mValueError\u001b[39;00m(\u001b[39m\"\u001b[39m\u001b[39mValidation should be done on X, y or both.\u001b[39m\u001b[39m\"\u001b[39m)\n\u001b[1;32m    576\u001b[0m \u001b[39melif\u001b[39;00m \u001b[39mnot\u001b[39;00m no_val_X \u001b[39mand\u001b[39;00m no_val_y:\n\u001b[0;32m--> 577\u001b[0m     X \u001b[39m=\u001b[39m check_array(X, input_name\u001b[39m=\u001b[39;49m\u001b[39m\"\u001b[39;49m\u001b[39mX\u001b[39;49m\u001b[39m\"\u001b[39;49m, \u001b[39m*\u001b[39;49m\u001b[39m*\u001b[39;49mcheck_params)\n\u001b[1;32m    578\u001b[0m     out \u001b[39m=\u001b[39m X\n\u001b[1;32m    579\u001b[0m \u001b[39melif\u001b[39;00m no_val_X \u001b[39mand\u001b[39;00m \u001b[39mnot\u001b[39;00m no_val_y:\n",
      "File \u001b[0;32m~/.local/lib/python3.8/site-packages/sklearn/utils/validation.py:899\u001b[0m, in \u001b[0;36mcheck_array\u001b[0;34m(array, accept_sparse, accept_large_sparse, dtype, order, copy, force_all_finite, ensure_2d, allow_nd, ensure_min_samples, ensure_min_features, estimator, input_name)\u001b[0m\n\u001b[1;32m    893\u001b[0m         \u001b[39mraise\u001b[39;00m \u001b[39mValueError\u001b[39;00m(\n\u001b[1;32m    894\u001b[0m             \u001b[39m\"\u001b[39m\u001b[39mFound array with dim \u001b[39m\u001b[39m%d\u001b[39;00m\u001b[39m. \u001b[39m\u001b[39m%s\u001b[39;00m\u001b[39m expected <= 2.\u001b[39m\u001b[39m\"\u001b[39m\n\u001b[1;32m    895\u001b[0m             \u001b[39m%\u001b[39m (array\u001b[39m.\u001b[39mndim, estimator_name)\n\u001b[1;32m    896\u001b[0m         )\n\u001b[1;32m    898\u001b[0m     \u001b[39mif\u001b[39;00m force_all_finite:\n\u001b[0;32m--> 899\u001b[0m         _assert_all_finite(\n\u001b[1;32m    900\u001b[0m             array,\n\u001b[1;32m    901\u001b[0m             input_name\u001b[39m=\u001b[39;49minput_name,\n\u001b[1;32m    902\u001b[0m             estimator_name\u001b[39m=\u001b[39;49mestimator_name,\n\u001b[1;32m    903\u001b[0m             allow_nan\u001b[39m=\u001b[39;49mforce_all_finite \u001b[39m==\u001b[39;49m \u001b[39m\"\u001b[39;49m\u001b[39mallow-nan\u001b[39;49m\u001b[39m\"\u001b[39;49m,\n\u001b[1;32m    904\u001b[0m         )\n\u001b[1;32m    906\u001b[0m \u001b[39mif\u001b[39;00m ensure_min_samples \u001b[39m>\u001b[39m \u001b[39m0\u001b[39m:\n\u001b[1;32m    907\u001b[0m     n_samples \u001b[39m=\u001b[39m _num_samples(array)\n",
      "File \u001b[0;32m~/.local/lib/python3.8/site-packages/sklearn/utils/validation.py:146\u001b[0m, in \u001b[0;36m_assert_all_finite\u001b[0;34m(X, allow_nan, msg_dtype, estimator_name, input_name)\u001b[0m\n\u001b[1;32m    124\u001b[0m         \u001b[39mif\u001b[39;00m (\n\u001b[1;32m    125\u001b[0m             \u001b[39mnot\u001b[39;00m allow_nan\n\u001b[1;32m    126\u001b[0m             \u001b[39mand\u001b[39;00m estimator_name\n\u001b[0;32m   (...)\u001b[0m\n\u001b[1;32m    130\u001b[0m             \u001b[39m# Improve the error message on how to handle missing values in\u001b[39;00m\n\u001b[1;32m    131\u001b[0m             \u001b[39m# scikit-learn.\u001b[39;00m\n\u001b[1;32m    132\u001b[0m             msg_err \u001b[39m+\u001b[39m\u001b[39m=\u001b[39m (\n\u001b[1;32m    133\u001b[0m                 \u001b[39mf\u001b[39m\u001b[39m\"\u001b[39m\u001b[39m\\n\u001b[39;00m\u001b[39m{\u001b[39;00mestimator_name\u001b[39m}\u001b[39;00m\u001b[39m does not accept missing values\u001b[39m\u001b[39m\"\u001b[39m\n\u001b[1;32m    134\u001b[0m                 \u001b[39m\"\u001b[39m\u001b[39m encoded as NaN natively. For supervised learning, you might want\u001b[39m\u001b[39m\"\u001b[39m\n\u001b[0;32m   (...)\u001b[0m\n\u001b[1;32m    144\u001b[0m                 \u001b[39m\"\u001b[39m\u001b[39m#estimators-that-handle-nan-values\u001b[39m\u001b[39m\"\u001b[39m\n\u001b[1;32m    145\u001b[0m             )\n\u001b[0;32m--> 146\u001b[0m         \u001b[39mraise\u001b[39;00m \u001b[39mValueError\u001b[39;00m(msg_err)\n\u001b[1;32m    148\u001b[0m \u001b[39m# for object dtype data, we only check for NaNs (GH-13254)\u001b[39;00m\n\u001b[1;32m    149\u001b[0m \u001b[39melif\u001b[39;00m X\u001b[39m.\u001b[39mdtype \u001b[39m==\u001b[39m np\u001b[39m.\u001b[39mdtype(\u001b[39m\"\u001b[39m\u001b[39mobject\u001b[39m\u001b[39m\"\u001b[39m) \u001b[39mand\u001b[39;00m \u001b[39mnot\u001b[39;00m allow_nan:\n",
      "\u001b[0;31mValueError\u001b[0m: Input X contains NaN.\nPCA does not accept missing values encoded as NaN natively. For supervised learning, you might want to consider sklearn.ensemble.HistGradientBoostingClassifier and Regressor which accept missing values encoded as NaNs natively. Alternatively, it is possible to preprocess the data, for instance by using an imputer transformer in a pipeline or drop samples with missing values. See https://scikit-learn.org/stable/modules/impute.html You can find a list of all estimators that handle NaN values at the following page: https://scikit-learn.org/stable/modules/impute.html#estimators-that-handle-nan-values"
     ]
    }
   ],
   "source": [
    "# X_train_sel = X_train_scaled[mask, :]\n",
    "# pca = PCA(n_components=0.58, svd_solver='full')\n",
    "# x_train_pca = pca.fit_transform(X_train_sel)\n",
    "\n",
    "# X_test_sel = pca.fit_transform(X_test_scaled)\n",
    "# y_train_sel = y_train[mask]\n",
    "\n",
    "# ############# MICE imputation #############\n",
    "\n",
    "# imp_mean = IterativeImputer(random_state=0, n_nearest_features = None, sample_posterior = False, max_iter=100) \n",
    "# X_train_sc_imp = imp_mean.fit_transform(X_train_sel)\n",
    "# # X_test_sc_imp = imp_mean.fit_transform(X_test_sel)"
   ]
  },
  {
   "cell_type": "markdown",
   "id": "04ecca55",
   "metadata": {},
   "source": [
    "# Imputation using kbest selected features"
   ]
  },
  {
   "cell_type": "code",
   "execution_count": 18,
   "id": "87dda935",
   "metadata": {},
   "outputs": [
    {
     "name": "stderr",
     "output_type": "stream",
     "text": [
      "/Library/Frameworks/Python.framework/Versions/3.9/lib/python3.9/site-packages/sklearn/impute/_iterative.py:699: ConvergenceWarning: [IterativeImputer] Early stopping criterion not reached.\n",
      "  warnings.warn(\n"
     ]
    }
   ],
   "source": [
    "X_train_sel = X_train_scaled[:,feature_flag]\n",
    "X_train_sel = X_train_sel[mask, :]\n",
    "X_test_sel = X_test_scaled[:,feature_flag]\n",
    "y_train_sel = y_train[mask]\n",
    "\n",
    "############# MICE imputation #############\n",
    "\n",
    "imp_mean = IterativeImputer(random_state=0, n_nearest_features = None, sample_posterior = False, max_iter=100) \n",
    "X_train_sc_imp = imp_mean.fit_transform(X_train_sel)\n",
    "X_test_sc_imp = imp_mean.fit_transform(X_test_sel)"
   ]
  },
  {
   "cell_type": "markdown",
   "id": "82acb2a4",
   "metadata": {},
   "source": [
    "## Imputation after ExtraTreesRegressor"
   ]
  },
  {
   "cell_type": "code",
   "execution_count": 7,
   "id": "0b742e7a",
   "metadata": {
    "scrolled": false
   },
   "outputs": [
    {
     "name": "stderr",
     "output_type": "stream",
     "text": [
      "/home/ts/.local/lib/python3.8/site-packages/sklearn/impute/_iterative.py:713: ConvergenceWarning: [IterativeImputer] Early stopping criterion not reached.\n",
      "  warnings.warn(\n"
     ]
    }
   ],
   "source": [
    "#############  #############\n",
    "X_train_sel = X_train_scaled[:,support]\n",
    "X_train_sel = X_train_sel[mask, :]\n",
    "X_test_sel = X_test_scaled[:,support]\n",
    "y_train_sel = y_train[mask]\n",
    "\n",
    "############# MICE imputation #############\n",
    "\n",
    "imp_mean = IterativeImputer(random_state=0, n_nearest_features = None, sample_posterior = False, max_iter=100) \n",
    "X_train_sc_imp = imp_mean.fit_transform(X_train_sel)\n",
    "X_test_sc_imp = imp_mean.fit_transform(X_test_sel)\n"
   ]
  },
  {
   "cell_type": "markdown",
   "id": "1900bf7d",
   "metadata": {},
   "source": [
    "# Imputation using a mix of extra trees and k best"
   ]
  },
  {
   "cell_type": "code",
   "execution_count": 54,
   "id": "25ad1a7e",
   "metadata": {},
   "outputs": [
    {
     "name": "stdout",
     "output_type": "stream",
     "text": [
      "(1212, 773)\n",
      "(1212, 113)\n"
     ]
    },
    {
     "name": "stderr",
     "output_type": "stream",
     "text": [
      "/Library/Frameworks/Python.framework/Versions/3.9/lib/python3.9/site-packages/sklearn/impute/_iterative.py:699: ConvergenceWarning: [IterativeImputer] Early stopping criterion not reached.\n",
      "  warnings.warn(\n"
     ]
    }
   ],
   "source": [
    "flag = np.intersect1d(feature_flag, support)\n",
    "print(X_train_scaled.shape)\n",
    "X_train_sel = X_train_scaled[:,flag]\n",
    "print(X_train_sel.shape)\n",
    "X_train_sel = X_train_sel[mask, :]\n",
    "X_test_sel = X_test_scaled[:,flag]\n",
    "y_train_sel = y_train[mask]\n",
    "\n",
    "############# MICE imputation #############\n",
    "\n",
    "imp_mean = IterativeImputer(random_state=0, n_nearest_features = None, sample_posterior = False, max_iter=100) \n",
    "X_train_sc_imp = imp_mean.fit_transform(X_train_sel)\n",
    "X_test_sc_imp = imp_mean.fit_transform(X_test_sel)"
   ]
  },
  {
   "cell_type": "markdown",
   "id": "85d64276",
   "metadata": {},
   "source": [
    "### Second round of outlier detection"
   ]
  },
  {
   "cell_type": "code",
   "execution_count": 55,
   "id": "f931bb1c",
   "metadata": {
    "scrolled": true
   },
   "outputs": [
    {
     "data": {
      "image/png": "[encoded data removed]",
      "text/plain": [
       "<Figure size 432x288 with 1 Axes>"
      ]
     },
     "metadata": {
      "needs_background": "light"
     },
     "output_type": "display_data"
    },
    {
     "name": "stdout",
     "output_type": "stream",
     "text": [
      "Shape of the training set: (1035, 113)\n"
     ]
    }
   ],
   "source": [
    "outlierdet = IsolationForest(random_state=0, contamination=0.05, max_features=0.5).fit(X_train_sc_imp)\n",
    "anomaly_score2 = outlierdet.decision_function(X_train_sc_imp)\n",
    "\n",
    "anomaly_threshold2 = 0.0\n",
    "plt.plot(anomaly_score2)\n",
    "plt.plot(np.ones(anomaly_score2.shape)*anomaly_threshold2)\n",
    "plt.ylabel('anomaly score after feature sel')\n",
    "plt.show()\n",
    "\n",
    "outliers=np.where(anomaly_score2 < anomaly_threshold2)\n",
    "\n",
    "mask = np.ones(len(anomaly_score2), dtype=bool)\n",
    "mask[outliers[0]] = False\n",
    "X_train_cl = X_train_sc_imp[mask,:]\n",
    "y_train_cl = y_train_sel[mask]\n",
    "\n",
    "print('Shape of the training set:', X_train_cl.shape)"
   ]
  },
  {
   "cell_type": "markdown",
   "id": "c8217816",
   "metadata": {},
   "source": [
    "### regression models"
   ]
  },
  {
   "cell_type": "code",
   "execution_count": 56,
   "id": "ba855c20",
   "metadata": {
    "scrolled": true
   },
   "outputs": [
    {
     "name": "stdout",
     "output_type": "stream",
     "text": [
      "MAE: 0.191 (0.149)\n"
     ]
    }
   ],
   "source": [
    "############# Regression using a decision tree #############\n",
    "\n",
    "cv = RepeatedKFold(n_splits=10, n_repeats=3, random_state=1)\n",
    "reg_model = DecisionTreeRegressor(random_state=0, min_samples_split=0.01)\n",
    "n_scores = cross_val_score(reg_model, X_train_cl, y_train_cl, scoring='r2', cv=cv, n_jobs=-1, error_score='raise')\n",
    "print('MAE: %.3f (%.3f)' % (np.mean(n_scores), np.std(n_scores)))"
   ]
  },
  {
   "cell_type": "code",
   "execution_count": 57,
   "id": "74907cd1",
   "metadata": {
    "scrolled": true
   },
   "outputs": [
    {
     "name": "stdout",
     "output_type": "stream",
     "text": [
      "HBG: 0.632 (0.062)\n",
      "SVR: 0.686 (0.064)\n",
      "MLP: 0.642 (0.073)\n"
     ]
    }
   ],
   "source": [
    "\n",
    "run_list = [0,1,1,0,1]\n",
    "\n",
    "############# Regression using a random forest #############\n",
    "if run_list[0]:\n",
    "    rf_reg = ExtraTreesRegressor(n_estimators=100, random_state=0, min_samples_split=5, max_samples=None)\n",
    "    n_scores_0 = cross_val_score(rf_reg, X_train_cl, y_train_cl, scoring='r2', cv=cv, n_jobs=-1, error_score='raise')\n",
    "    print('ExtraTrees: %.3f (%.3f)' % (np.mean(n_scores_0), np.std(n_scores_0)))\n",
    "    regressor = rf_reg.fit(X_train_cl, y_train_cl)\n",
    "    y_predicted_rf = regressor.predict(X_test_sc_imp)\n",
    "\n",
    "\n",
    "\n",
    "############# Regression using HistGradientBoostingRegressor #############\n",
    "if run_list[1]:\n",
    "    HGB_reg = HistGradientBoostingRegressor(max_iter=200, learning_rate = 0.1, l2_regularization = 10)\n",
    "    n_scores_1 = cross_val_score(HGB_reg, X_train_cl, y_train_cl, scoring='r2', cv=cv, n_jobs=-1, error_score='raise')\n",
    "    print('HBG: %.3f (%.3f)' % (np.mean(n_scores_1), np.std(n_scores_1)))\n",
    "    regressor = HGB_reg.fit(X_train_cl, y_train_cl)\n",
    "    y_predicted_hgb = regressor.predict(X_test_sc_imp)\n",
    "\n",
    "############# Regression using SVR #############\n",
    "if run_list[2]:\n",
    "    SVR_reg = SVR(kernel='rbf', degree=50, gamma=0.011, coef0=0.0, tol=0.1, C=100, epsilon=0.1, shrinking=True, cache_size=200)\n",
    "    n_scores_2 = cross_val_score(SVR_reg, X_train_cl, y_train_cl, scoring='r2', cv=cv, n_jobs=-1, error_score='raise')\n",
    "    print('SVR: %.3f (%.3f)' % (np.mean(n_scores_2), np.std(n_scores_2)))\n",
    "    regressor = SVR_reg.fit(X_train_cl, y_train_cl)\n",
    "    y_predicted_svr = regressor.predict(X_test_sc_imp)\n",
    "    \n",
    "############# Regression using adaboost #############\n",
    "if run_list[3]:\n",
    "    ada_regr = AdaBoostRegressor(random_state=0, n_estimators=1000, loss='square', learning_rate=0.5)\n",
    "    n_scores_3 = cross_val_score(ada_regr, X_train_cl, y_train_cl, scoring='r2', cv=cv, n_jobs=-1, error_score='raise')\n",
    "    print('Ada: %.3f (%.3f)' % (np.mean(n_scores_3), np.std(n_scores_3)))\n",
    "\n",
    "############# Regression using MLP #############\n",
    "if run_list[4]:\n",
    "    MLP_reg = MLPRegressor(random_state=10, max_iter=10000,activation='tanh',solver='sgd',alpha=10, hidden_layer_sizes=(200))\n",
    "    n_scores_4 = cross_val_score(MLP_reg, X_train_cl, y_train_cl, scoring='r2', cv=cv, n_jobs=-1, error_score='raise')\n",
    "    print('MLP: %.3f (%.3f)' % (np.mean(n_scores_4), np.std(n_scores_4)))\n",
    "    regressor = MLP_reg.fit(X_train_cl, y_train_cl)\n",
    "    y_predicted_mlp = regressor.predict(X_test_sc_imp)\n"
   ]
  },
  {
   "cell_type": "code",
   "execution_count": 58,
   "id": "fdba94e0",
   "metadata": {},
   "outputs": [],
   "source": [
    "############# Write out the predictions to a csv file #############\n",
    "y_predicted = 1/3*(y_predicted_svr + y_predicted_mlp + y_predicted_hgb)\n",
    "d = {'id': range(len(y_predicted)), 'y': y_predicted}\n",
    "y_predicted_df = pd.DataFrame(data=d)\n",
    "y_predicted_df.to_csv(\"double_FS_00AS_test.csv\", index=False)"
   ]
  },
  {
   "cell_type": "code",
   "execution_count": null,
   "id": "f2f8d50f",
   "metadata": {},
   "outputs": [],
   "source": []
  }
 ],
 "metadata": {
  "kernelspec": {
   "display_name": "Python 3.8.10 64-bit",
   "language": "python",
   "name": "python3"
  },
  "language_info": {
   "codemirror_mode": {
    "name": "ipython",
    "version": 3
   },
   "file_extension": ".py",
   "mimetype": "text/x-python",
   "name": "python",
   "nbconvert_exporter": "python",
   "pygments_lexer": "ipython3",
   "version": "3.8.10"
  },
  "vscode": {
   "interpreter": {
    "hash": "916dbcbb3f70747c44a77c7bcd40155683ae19c65e1c03b4aa3499c5328201f1"
   }
  }
 },
 "nbformat": 4,
 "nbformat_minor": 5
}
